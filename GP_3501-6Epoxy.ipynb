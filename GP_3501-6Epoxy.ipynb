{
 "cells": [
  {
   "cell_type": "markdown",
   "metadata": {},
   "source": [
    "# Guassian Processes (GP) for Epoxy Resin Degree of Cure\n",
    "Using same training data, the mean value and variance of resin properties at test points are predicted through using GP processes"
   ]
  },
  {
   "cell_type": "code",
   "execution_count": 40,
   "metadata": {},
   "outputs": [],
   "source": [
    "# import\n",
    "import pandas as pd\n",
    "import numpy as np\n",
    "import matplotlib.pyplot as plt\n",
    "import seaborn as sns\n",
    "import math\n",
    "import sklearn as sk\n",
    "import scipy as sp"
   ]
  },
  {
   "cell_type": "markdown",
   "metadata": {},
   "source": [
    "### Inputs \n",
    "Material properties, data information, and processing parameters"
   ]
  },
  {
   "cell_type": "code",
   "execution_count": 41,
   "metadata": {},
   "outputs": [],
   "source": [
    "n = 100 # number of data points\n",
    "test_size = 0.3 # test data size ratio\n",
    "Type = 'ConstRate' # Iso, ConstRate, OneHold\n",
    "\n",
    "ts = 0 # start time, min\n",
    "te = 90 # end time, min\n",
    "\n",
    "# Isothermal\n",
    "T_iso = 140+273 # Temp for isotermal process\n",
    "\n",
    "# Dynamic _ Constant Rate\n",
    "Tr = 3 # Temp rate for dynamic process, K/min\n",
    "Ts = 293 # start temp, K\n",
    "\n",
    "# Dynamic _ One Hold\n",
    "th1 = 52 # hold start time, min\n",
    "th2 = 172 # hold end time, min\n",
    "Tsh = 293 # start temp, K\n",
    "Th = 453 # hold temp, K"
   ]
  },
  {
   "cell_type": "markdown",
   "metadata": {},
   "source": [
    "### Functions "
   ]
  },
  {
   "cell_type": "code",
   "execution_count": 15,
   "metadata": {},
   "outputs": [],
   "source": [
    "# Temperature function, Dynamic _ Constant Rate\n",
    "def Temp_constrate(t,T_start,T_rate):\n",
    "    Temp = t*T_rate + T_start\n",
    "    return Temp \n",
    "\n",
    "# Temperature function, Dynamic _ One Hold\n",
    "def Temp_onehold(t,th1,th2,Tsh,Th):\n",
    "    T_rate = (Th-Tsh) / th1\n",
    "    \n",
    "    if t < th1:\n",
    "        Temp = t*T_rate + Tsh\n",
    "    elif t > th2:\n",
    "         Temp = -(t-th2)*T_rate + Th\n",
    "    else:\n",
    "         Temp = Th\n",
    "         \n",
    "    return Temp\n",
    "    \n",
    "# C Coefficients in material model\n",
    "def C(Temp):\n",
    "    C = list(range(3))\n",
    "    for i in range(3):\n",
    "        C[i]= A[i] * np.exp(-dE[i]/(R*Temp))\n",
    "    return C\n",
    "\n",
    "# Rate of degree of cure function (refer to paper)\n",
    "def X_rate(x,T):\n",
    "    if x <= 0.3:\n",
    "        xr = (C(T)[0]+(C(T)[1]*x)) * (1-x) * (B-x)\n",
    "    else:\n",
    "        xr = C(T)[2]*(1-x) \n",
    "    return xr"
   ]
  },
  {
   "cell_type": "markdown",
   "metadata": {},
   "source": [
    "### Data \n",
    "Gnerating data based on material model for training"
   ]
  },
  {
   "cell_type": "code",
   "execution_count": 42,
   "metadata": {},
   "outputs": [],
   "source": [
    "# Table 5.2 of S.A. Niaki Thesis for 3501-6\n",
    "A1 = 3.5017e7\n",
    "A2 = -3.3567e7\n",
    "A3 = 3.2667e3\n",
    "A = [A1, A2, A3]\n",
    "dE1 = 80700\n",
    "dE2 = 77800\n",
    "dE3 = 56600\n",
    "dE = [dE1, dE2, dE3]\n",
    "B = 0.47\n",
    "R = 8.314\n",
    "\n",
    "time = np.linspace(start=ts, stop=te, num=n)\n",
    "dt = (te-ts)/n * 60\n",
    "X = [0] * (n+1)\n",
    "Xr = [0] * n\n",
    "T_list = [0] * n\n",
    "\n",
    "\n",
    "for i in range(len(time)):\n",
    "    t = time[i]\n",
    "    if Type == 'Iso':\n",
    "        T = T_iso\n",
    "    elif Type == 'ConstRate':\n",
    "        T = Temp_constrate(t,Ts,Tr)\n",
    "    else:\n",
    "        T = Temp_onehold(t,th1,th2,Ts,Th)\n",
    "    \n",
    "    T_list[i] = T\n",
    "    Xr[i] =  X_rate(X[i],T)\n",
    "    X[i+1] = X[i] + dt * Xr[i]\n",
    "X.pop()\n",
    "\n",
    "# Adding noise to data\n",
    "#sigma_n = min(Xr)/10\n",
    "#epsilon = np.random.normal(loc=0, scale=sigma_n, size=n)\n",
    "#Xr = Xr + epsilon\n",
    "\n",
    "Xr = [-i if i <= 0 else i for i in Xr]"
   ]
  },
  {
   "cell_type": "markdown",
   "metadata": {},
   "source": [
    "#### Data Visualization"
   ]
  },
  {
   "cell_type": "code",
   "execution_count": 43,
   "metadata": {},
   "outputs": [
    {
     "data": {
      "text/plain": [
       "Text(0, 0.5, 'Temp')"
      ]
     },
     "execution_count": 43,
     "metadata": {},
     "output_type": "execute_result"
    },
    {
     "data": {
      "image/png": "[encoded data removed]",
      "text/plain": [
       "<Figure size 432x288 with 1 Axes>"
      ]
     },
     "metadata": {
      "needs_background": "light"
     },
     "output_type": "display_data"
    }
   ],
   "source": [
    "plt.subplot(111)\n",
    "plt.scatter(time[:-1], T_list[:-1], color='blue', s = 20, alpha = 0.5)\n",
    "plt.ylim(min(T_list[:-1]), max(T_list[:-1]))\n",
    "plt.title('Temperature evolution')\n",
    "plt.xlabel('time')\n",
    "plt.ylabel('Temp')"
   ]
  },
  {
   "cell_type": "code",
   "execution_count": 44,
   "metadata": {},
   "outputs": [
    {
     "data": {
      "text/plain": [
       "Text(0, 0.5, 'Degree of cure')"
      ]
     },
     "execution_count": 44,
     "metadata": {},
     "output_type": "execute_result"
    },
    {
     "data": {
      "image/png": "[encoded data removed]",
      "text/plain": [
       "<Figure size 432x288 with 1 Axes>"
      ]
     },
     "metadata": {
      "needs_background": "light"
     },
     "output_type": "display_data"
    }
   ],
   "source": [
    "plt.subplot(111)\n",
    "plt.scatter(time[:-1], X[:-1], color='red', s = 20, alpha = 0.5)\n",
    "plt.ylim(min(X[:-1]), max(X[:-1]))\n",
    "plt.title('Degree of Cure - Time')\n",
    "plt.xlabel('time')\n",
    "plt.ylabel('Degree of cure')"
   ]
  },
  {
   "cell_type": "code",
   "execution_count": 45,
   "metadata": {},
   "outputs": [
    {
     "data": {
      "text/plain": [
       "Text(0, 0.5, 'Rate of cure')"
      ]
     },
     "execution_count": 45,
     "metadata": {},
     "output_type": "execute_result"
    },
    {
     "data": {
      "image/png": "[encoded data removed]",
      "text/plain": [
       "<Figure size 432x288 with 1 Axes>"
      ]
     },
     "metadata": {
      "needs_background": "light"
     },
     "output_type": "display_data"
    }
   ],
   "source": [
    "plt.subplot(111)\n",
    "plt.scatter(time[:-1], Xr[:-1], color='black', s = 20, alpha = 0.5)\n",
    "plt.ylim(min(Xr[:-1]), max(Xr[:-1]))\n",
    "plt.title('Rate of Cure - Time')\n",
    "plt.xlabel('time')\n",
    "plt.ylabel('Rate of cure')"
   ]
  },
  {
   "cell_type": "code",
   "execution_count": 46,
   "metadata": {},
   "outputs": [],
   "source": [
    "# plt.subplot(111)\n",
    "# plt.scatter(T_list[:-1], Xr[:-1], color='blue', s = 20, alpha = 0.5)\n",
    "# plt.ylim(min(Xr[:-1]), max(Xr[:-1]))\n",
    "# plt.xlabel('Temp')\n",
    "# plt.ylabel('Rate of cure')"
   ]
  },
  {
   "cell_type": "code",
   "execution_count": 47,
   "metadata": {},
   "outputs": [],
   "source": [
    "# plt.subplot(111)\n",
    "# plt.scatter(X[:-1], Xr[:-1], color='blue', s = 20, alpha = 0.5)\n",
    "# plt.ylim(min(Xr[:-1]), max(Xr[:-1]))\n",
    "# plt.xlabel('Degree of cure')\n",
    "# plt.ylabel('Rate of cure')"
   ]
  },
  {
   "cell_type": "code",
   "execution_count": 48,
   "metadata": {},
   "outputs": [],
   "source": [
    "# plt.subplot(111)\n",
    "# plt.scatter(T_list[:-1], np.log(Xr[:-1]), color='blue', s = 20, alpha = 0.5)\n",
    "# plt.ylim(min(np.log(Xr[:-1])), max(np.log(Xr[:-1])))\n",
    "# plt.xlabel('Temp')\n",
    "# plt.ylabel('Ln of rate of cure')"
   ]
  },
  {
   "cell_type": "code",
   "execution_count": 49,
   "metadata": {},
   "outputs": [],
   "source": [
    "# Data preprocessing\n",
    "x = [[T_list[i],X[i]] for i in range(len(T_list))]\n",
    "y = [i for i in np.log(Xr)]\n",
    "\n",
    "# feature scaling\n",
    "from sklearn.preprocessing import StandardScaler\n",
    "sc_X = StandardScaler()\n",
    "x= sc_X.fit_transform(x)\n",
    "\n",
    "# Training and Test data\n",
    "from sklearn.model_selection import train_test_split\n",
    "x1, x2, y1, y2 = train_test_split(x, y, test_size = test_size)\n",
    "\n",
    "\n",
    "''' Least square optimization '''\n",
    "from scipy.optimize import leastsq\n",
    "\n",
    "def func(params, xdata, ydata):\n",
    "    return (ydata - (params[0]-params[1]/xdata))\n",
    "\n",
    "\n",
    "x0 = np.ones(2)\n",
    "x_arr = np.array([i[0] for i in x1])\n",
    "y_arr = np.array(y1)\n",
    "\n",
    "params = leastsq(func, x0, args=(x_arr, y_arr))\n",
    "params_lst = params[0].tolist()"
   ]
  },
  {
   "cell_type": "code",
   "execution_count": 52,
   "metadata": {},
   "outputs": [],
   "source": [
    "# # Visualization\n",
    "# plt.subplot(111)\n",
    "# plt.scatter(x_arr, y_arr, color='blue', s = 20, alpha = 0.5, label='sample data')\n",
    "# plt.scatter(x_arr, params_lst[0]-params_lst[1]/x_arr, color='red', s = 20, alpha = 0.5)\n",
    "# plt.ylim(min(y_arr), max(y_arr))\n",
    "# plt.xlabel('Temp')\n",
    "# plt.ylabel('log of rate of cure')"
   ]
  },
  {
   "cell_type": "code",
   "execution_count": 53,
   "metadata": {},
   "outputs": [],
   "source": [
    "# plt.subplot(111)\n",
    "# plt.scatter(x_arr, np.exp(y_arr), color='blue', s = 20, alpha = 0.5, label='sample data')\n",
    "# plt.scatter(x_arr, np.exp(params_lst[0]-params_lst[1]/x_arr), color='red', s = 20, alpha = 0.5)\n",
    "# plt.ylim(min(np.exp(y_arr)), max(np.exp(y_arr)))\n",
    "# plt.xlabel('Temp')\n",
    "# plt.ylabel('Rate of cure')"
   ]
  },
  {
   "cell_type": "markdown",
   "metadata": {},
   "source": [
    "### Gaussian processes"
   ]
  },
  {
   "cell_type": "code",
   "execution_count": 54,
   "metadata": {},
   "outputs": [],
   "source": [
    "'''functions'''\n",
    "def Euc_dic(x,y):\n",
    "    dis = [(x[i]-y[i])**2  for i in list(range(np.shape(x)[0]))]\n",
    "    return np.sqrt(sum(dis))\n",
    "\n",
    "def kernel(x1, x2, sigma):\n",
    "    krnl = np.array([np.exp(-1/(2*(sigma**2))*Euc_dic(i,j)**2)  for i in x1 for j in x2])\n",
    "    krnl = krnl.reshape(len(x1), len(x2))\n",
    "    return krnl\n",
    "\n",
    "def cov(x1, x2, sigma):\n",
    "    sig11 = kernel(x1, x1, sigma)\n",
    "    sig12 = kernel(x1, x2, sigma)\n",
    "    sig21 = kernel(x2, x1, sigma)\n",
    "    sig22 = kernel(x2, x2, sigma)\n",
    "    cov_mat1 = np.concatenate((sig11, sig12), axis=1)\n",
    "    cov_mat2 = np.concatenate((sig21, sig22), axis=1)\n",
    "    cov_mat = np.concatenate((cov_mat1, cov_mat2), axis=0)\n",
    "    return cov_mat, sig11, sig12, sig21, sig22\n",
    "\n",
    "def prior_mu(vec):\n",
    "    A= params_lst[0]\n",
    "    B= params_lst[1]\n",
    "    pr_mean = [(A - B / j) for j in [i[0] for i in vec]] \n",
    "    return pr_mean\n",
    "\n",
    "# prior means and posterior cov\n",
    "sigma = 0.1\n",
    "prior_mean1 = prior_mu(x1)\n",
    "prior_mean2 = prior_mu(x2)\n",
    "cov_mat, sig11, sig12, sig21, sig22 = cov(x1, x2, sigma)\n",
    "\n",
    "# cholesky algorithm\n",
    "L =np.linalg.cholesky(sig11)\n",
    "alpha = np.linalg.solve(np.transpose(L),(np.linalg.solve(L,y1)))\n",
    "# posterior predective mean\n",
    "posterior_mean2 = np.dot(np.transpose(sig12),alpha)\n",
    "# posterior variance\n",
    "v2 = np.linalg.solve(L,sig12)\n",
    "posterior_var2 = sig22 - np.dot(np.transpose(v2),v2)\n",
    "\n",
    "\n",
    "# Backscaling\n",
    "x1 = sc_X.inverse_transform(x1)\n",
    "x2 = sc_X.inverse_transform(x2)\n",
    " \n",
    "# Sorting\n",
    "z = [x for _, x in sorted(zip(np.array([i[0] for i in x2]), posterior_mean2) )] \n",
    "posterior_mean2_srt = np.array(z)"
   ]
  },
  {
   "cell_type": "markdown",
   "metadata": {},
   "source": [
    "#### Mean value predictions \n",
    "Predicting degree of cure mean value at test points"
   ]
  },
  {
   "cell_type": "code",
   "execution_count": 55,
   "metadata": {},
   "outputs": [
    {
     "data": {
      "text/plain": [
       "<matplotlib.legend.Legend at 0x28ec5a1db08>"
      ]
     },
     "execution_count": 55,
     "metadata": {},
     "output_type": "execute_result"
    },
    {
     "data": {
      "image/png": "[encoded data removed]",
      "text/plain": [
       "<Figure size 432x288 with 1 Axes>"
      ]
     },
     "metadata": {
      "needs_background": "light"
     },
     "output_type": "display_data"
    }
   ],
   "source": [
    "plt.subplot(111)\n",
    "plt.scatter(np.array([i[0] for i in x2]), posterior_mean2, color='blue', s = 20, alpha = 0.5, label='test data')\n",
    "plt.scatter(np.array([i[0] for i in x1]), y1, color='red', s = 20, alpha = 0.5, label='input data')\n",
    "plt.fill_between(np.sort(np.array([i[0] for i in x2])), posterior_mean2_srt - np.diagonal(posterior_var2), posterior_mean2_srt +  np.diagonal(posterior_var2), alpha=0.2, color='k')\n",
    "plt.ylim(min(min(y1),min(posterior_mean2)), max(max(y1),max(posterior_mean2)))\n",
    "plt.xlabel('Temp')\n",
    "plt.ylabel('log of rate of cure')\n",
    "plt.legend()"
   ]
  },
  {
   "cell_type": "code",
   "execution_count": 56,
   "metadata": {},
   "outputs": [
    {
     "data": {
      "text/plain": [
       "<matplotlib.legend.Legend at 0x28ec5c68d88>"
      ]
     },
     "execution_count": 56,
     "metadata": {},
     "output_type": "execute_result"
    },
    {
     "data": {
      "image/png": "[encoded data removed]",
      "text/plain": [
       "<Figure size 432x288 with 1 Axes>"
      ]
     },
     "metadata": {
      "needs_background": "light"
     },
     "output_type": "display_data"
    }
   ],
   "source": [
    "plt.subplot(111)\n",
    "plt.scatter(np.array([i[1] for i in x2]), posterior_mean2, color='blue', s = 20, alpha = 0.5, label='test data')\n",
    "plt.scatter(np.array([i[1] for i in x1]), y1, color='red', s = 20, alpha = 0.5, label='input data')\n",
    "plt.ylim(min(y1), max(y1))\n",
    "plt.xlabel('Degree of cure')\n",
    "plt.ylabel('log of rate of cure')\n",
    "plt.legend()"
   ]
  },
  {
   "cell_type": "markdown",
   "metadata": {},
   "source": [
    "#### Uncertainty at  test points\n",
    "Predicting uncertainty in degree of cure at test points"
   ]
  },
  {
   "cell_type": "code",
   "execution_count": 39,
   "metadata": {},
   "outputs": [
    {
     "data": {
      "text/plain": [
       "<matplotlib.legend.Legend at 0x28ec5971488>"
      ]
     },
     "execution_count": 39,
     "metadata": {},
     "output_type": "execute_result"
    },
    {
     "data": {
      "image/png": "[encoded data removed]",
      "text/plain": [
       "<Figure size 432x288 with 1 Axes>"
      ]
     },
     "metadata": {
      "needs_background": "light"
     },
     "output_type": "display_data"
    }
   ],
   "source": [
    "plt.subplot(111)\n",
    "plt.scatter(np.array([i[0] for i in x2]), np.diag(posterior_var2), color='blue', s = 20, alpha = 0.5, label='test data')\n",
    "plt.ylim(-0.1, max(np.diag(posterior_var2)))\n",
    "plt.xlabel('Temp')\n",
    "plt.ylabel('Variance')\n",
    "plt.legend()"
   ]
  },
  {
   "cell_type": "code",
   "execution_count": 35,
   "metadata": {},
   "outputs": [],
   "source": [
    "# plt.subplot(111)\n",
    "# plt.scatter(np.array([i[0] for i in x2]), np.exp(posterior_mean2), color='blue', s = 20, alpha = 0.5, label='sample data')\n",
    "# plt.scatter(np.array([i[0] for i in x1]), np.exp(y1), color='red', s = 20, alpha = 0.5, label='predictions')\n",
    "# plt.ylim(min(np.exp(y1)), max(np.exp(y1)))\n",
    "# plt.xlabel('Temp')\n",
    "# plt.ylabel('Rate of cure')\n",
    "# plt.legend()"
   ]
  },
  {
   "cell_type": "code",
   "execution_count": 36,
   "metadata": {},
   "outputs": [],
   "source": [
    "# plt.subplot(111)\n",
    "# plt.scatter(np.array([i[1] for i in x2]), np.exp(posterior_mean2), color='blue', s = 20, alpha = 0.5, label='sample data')\n",
    "# plt.scatter(np.array([i[1] for i in x1]), np.exp(y1), color='red', s = 20, alpha = 0.5)\n",
    "# plt.ylim(min(np.exp(y1)), max(np.exp(y1)))\n",
    "# plt.xlabel('Degree of cure')\n",
    "# plt.ylabel('Rate of cure')"
   ]
  },
  {
   "cell_type": "code",
   "execution_count": null,
   "metadata": {},
   "outputs": [],
   "source": []
  }
 ],
 "metadata": {
  "kernelspec": {
   "display_name": "Python 3",
   "language": "python",
   "name": "python3"
  },
  "language_info": {
   "codemirror_mode": {
    "name": "ipython",
    "version": 3
   },
   "file_extension": ".py",
   "mimetype": "text/x-python",
   "name": "python",
   "nbconvert_exporter": "python",
   "pygments_lexer": "ipython3",
   "version": "3.7.4"
  },
  "toc": {
   "base_numbering": 1,
   "nav_menu": {},
   "number_sections": true,
   "sideBar": true,
   "skip_h1_title": false,
   "title_cell": "Table of Contents",
   "title_sidebar": "Contents",
   "toc_cell": false,
   "toc_position": {},
   "toc_section_display": true,
   "toc_window_display": false
  }
 },
 "nbformat": 4,
 "nbformat_minor": 2
}
